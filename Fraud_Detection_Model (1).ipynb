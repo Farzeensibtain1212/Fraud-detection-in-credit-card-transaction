{
  "cells": [
    {
      "cell_type": "code",
      "execution_count": null,
      "id": "bd75222d",
      "metadata": {
        "id": "bd75222d"
      },
      "outputs": [],
      "source": [
        "#!pip install scipy\n",
        "#!pip install scikit-learn\n",
        "#!pip install imbalanced-learn"
      ]
    },
    {
      "cell_type": "code",
      "execution_count": null,
      "id": "abfc75b2",
      "metadata": {
        "id": "abfc75b2"
      },
      "outputs": [],
      "source": [
        "import scipy\n",
        "import sklearn\n",
        "import imblearn\n",
        "import warnings\n",
        "warnings.filterwarnings('ignore')\n",
        "warnings.filterwarnings('ignore', category=DeprecationWarning)\n",
        "from sklearn.metrics import accuracy_score, precision_score, recall_score, f1_score\n",
        "from sklearn.model_selection import train_test_split\n",
        "from sklearn.naive_bayes import GaussianNB\n",
        "from sklearn.linear_model import LogisticRegression="
      ]
    },
    {
      "cell_type": "markdown",
      "id": "b5f2b29f",
      "metadata": {
        "id": "b5f2b29f"
      },
      "source": [
        "# **Data Understanding and Preprocessing**"
      ]
    },
    {
      "cell_type": "markdown",
      "id": "c0db6f82",
      "metadata": {
        "id": "c0db6f82"
      },
      "source": [
        "## **Data exploration**"
      ]
    },
    {
      "cell_type": "code",
      "execution_count": null,
      "id": "f1841a57",
      "metadata": {
        "id": "f1841a57"
      },
      "outputs": [],
      "source": [
        "import pandas as pd\n",
        "\n",
        "# Load the dataset to analyze its contents\n",
        "dataset = pd.read_csv('fraud_detection_data.csv')"
      ]
    },
    {
      "cell_type": "code",
      "execution_count": null,
      "id": "4e5e56e7",
      "metadata": {
        "colab": {
          "base_uri": "https://localhost:8080/"
        },
        "id": "4e5e56e7",
        "outputId": "ad086cc8-4188-4a72-9c1b-9d3afca41306"
      },
      "outputs": [
        {
          "output_type": "stream",
          "name": "stdout",
          "text": [
            "Is Fraudulent\n",
            "Yes    183\n",
            "No     180\n",
            "Name: count, dtype: int64\n"
          ]
        }
      ],
      "source": [
        "# Check the distribution of fraudulent vs. legitimate transactions\n",
        "fraud_distribution = dataset['Is Fraudulent'].value_counts()\n",
        "print(fraud_distribution)"
      ]
    },
    {
      "cell_type": "markdown",
      "id": "a707e016",
      "metadata": {
        "id": "a707e016"
      },
      "source": [
        "## **Handle any missing or inconsistent data**"
      ]
    },
    {
      "cell_type": "code",
      "execution_count": null,
      "id": "9e224724",
      "metadata": {
        "colab": {
          "base_uri": "https://localhost:8080/"
        },
        "id": "9e224724",
        "outputId": "a843e27e-2ff0-4bae-bb2b-b729b5ba3217"
      },
      "outputs": [
        {
          "output_type": "stream",
          "name": "stdout",
          "text": [
            "Transaction ID        0\n",
            "Customer ID           0\n",
            "Transaction Date      0\n",
            "Transaction Amount    0\n",
            "Merchant              0\n",
            "Location              0\n",
            "Transaction Type      0\n",
            "Card Type             0\n",
            "Is Fraudulent         0\n",
            "dtype: int64\n"
          ]
        }
      ],
      "source": [
        "import warnings\n",
        "# Check for missing or inconsistent data\n",
        "missing_data = dataset.isnull().sum()\n",
        "print(missing_data)"
      ]
    },
    {
      "cell_type": "code",
      "source": [
        "dataset['Transaction Date'] = pd.to_datetime(dataset['Transaction Date'])"
      ],
      "metadata": {
        "id": "94Zu-I3GKr-W"
      },
      "id": "94Zu-I3GKr-W",
      "execution_count": null,
      "outputs": []
    },
    {
      "cell_type": "markdown",
      "id": "975fa085",
      "metadata": {
        "id": "975fa085"
      },
      "source": [
        "## **Feature Engineering**"
      ]
    },
    {
      "cell_type": "markdown",
      "source": [
        "### **First Feature**"
      ],
      "metadata": {
        "id": "Ql4xk2aPInoJ"
      },
      "id": "Ql4xk2aPInoJ"
    },
    {
      "cell_type": "code",
      "source": [
        "dataset['Transaction Hour'] = dataset['Transaction Date'].dt.hour\n",
        "def time_of_day(hour):\n",
        "    if 6 <= hour < 12:\n",
        "        return 'Morning'\n",
        "    elif 12 <= hour < 16:\n",
        "        return 'Afternoon'\n",
        "    elif 16 <= hour < 20:\n",
        "        return 'Evening'\n",
        "    elif 20 <= hour < 24:\n",
        "        return 'Night'\n",
        "    else:\n",
        "        return 'Mid Night'\n",
        "\n",
        "# Apply binning based on the hour\n",
        "dataset['Transaction Time'] = dataset['Transaction Hour'].apply(time_of_day)\n"
      ],
      "metadata": {
        "id": "Qah38XDzLIjW"
      },
      "id": "Qah38XDzLIjW",
      "execution_count": null,
      "outputs": []
    },
    {
      "cell_type": "code",
      "source": [
        "dataset['Transaction Time'].value_counts()"
      ],
      "metadata": {
        "colab": {
          "base_uri": "https://localhost:8080/",
          "height": 272
        },
        "id": "Vz97znvwMQ6G",
        "outputId": "aa4ea8cf-2b18-46e7-b8b9-ec8e63f6a597"
      },
      "id": "Vz97znvwMQ6G",
      "execution_count": null,
      "outputs": [
        {
          "output_type": "execute_result",
          "data": {
            "text/plain": [
              "Transaction Time\n",
              "Mid Night    96\n",
              "Morning      79\n",
              "Evening      66\n",
              "Afternoon    62\n",
              "Night        60\n",
              "Name: count, dtype: int64"
            ],
            "text/html": [
              "<div>\n",
              "<style scoped>\n",
              "    .dataframe tbody tr th:only-of-type {\n",
              "        vertical-align: middle;\n",
              "    }\n",
              "\n",
              "    .dataframe tbody tr th {\n",
              "        vertical-align: top;\n",
              "    }\n",
              "\n",
              "    .dataframe thead th {\n",
              "        text-align: right;\n",
              "    }\n",
              "</style>\n",
              "<table border=\"1\" class=\"dataframe\">\n",
              "  <thead>\n",
              "    <tr style=\"text-align: right;\">\n",
              "      <th></th>\n",
              "      <th>count</th>\n",
              "    </tr>\n",
              "    <tr>\n",
              "      <th>Transaction Time</th>\n",
              "      <th></th>\n",
              "    </tr>\n",
              "  </thead>\n",
              "  <tbody>\n",
              "    <tr>\n",
              "      <th>Mid Night</th>\n",
              "      <td>96</td>\n",
              "    </tr>\n",
              "    <tr>\n",
              "      <th>Morning</th>\n",
              "      <td>79</td>\n",
              "    </tr>\n",
              "    <tr>\n",
              "      <th>Evening</th>\n",
              "      <td>66</td>\n",
              "    </tr>\n",
              "    <tr>\n",
              "      <th>Afternoon</th>\n",
              "      <td>62</td>\n",
              "    </tr>\n",
              "    <tr>\n",
              "      <th>Night</th>\n",
              "      <td>60</td>\n",
              "    </tr>\n",
              "  </tbody>\n",
              "</table>\n",
              "</div><br><label><b>dtype:</b> int64</label>"
            ]
          },
          "metadata": {},
          "execution_count": 8
        }
      ]
    },
    {
      "cell_type": "markdown",
      "source": [
        "### **Second Feature**"
      ],
      "metadata": {
        "id": "KcHgzHYGIrPo"
      },
      "id": "KcHgzHYGIrPo"
    },
    {
      "cell_type": "code",
      "source": [
        "def categorize_period(day_of_week):\n",
        "    if day_of_week == 0:  # Monday\n",
        "        return 'Mon'\n",
        "    elif day_of_week == 1:  # Tuesday\n",
        "        return 'Tues'\n",
        "    elif day_of_week == 2:  # Wednesday\n",
        "        return 'Wed'\n",
        "    elif day_of_week == 3:  # Thursday\n",
        "        return 'Thu'\n",
        "    elif day_of_week == 4:  # Friday\n",
        "        return 'Fri'\n",
        "    elif day_of_week == 5:  # Saturday\n",
        "        return 'Sat'\n",
        "    elif day_of_week == 6:  # Sunday\n",
        "        return 'Sun'\n",
        "\n",
        "# Apply the categorization function based on the day of the week\n",
        "dataset['Week Day'] = dataset['Transaction Date'].dt.dayofweek.apply(categorize_period)"
      ],
      "metadata": {
        "id": "6Q_g00Bud4jn"
      },
      "id": "6Q_g00Bud4jn",
      "execution_count": null,
      "outputs": []
    },
    {
      "cell_type": "code",
      "source": [
        "dataset['Week Day'].value_counts()"
      ],
      "metadata": {
        "colab": {
          "base_uri": "https://localhost:8080/",
          "height": 335
        },
        "id": "GaACXRJ6e9gN",
        "outputId": "09d503cf-b1f7-4e63-92e8-5f41fa775b24"
      },
      "id": "GaACXRJ6e9gN",
      "execution_count": null,
      "outputs": [
        {
          "output_type": "execute_result",
          "data": {
            "text/plain": [
              "Week Day\n",
              "Tues    56\n",
              "Sat     55\n",
              "Thu     54\n",
              "Sun     53\n",
              "Fri     52\n",
              "Mon     50\n",
              "Wed     43\n",
              "Name: count, dtype: int64"
            ],
            "text/html": [
              "<div>\n",
              "<style scoped>\n",
              "    .dataframe tbody tr th:only-of-type {\n",
              "        vertical-align: middle;\n",
              "    }\n",
              "\n",
              "    .dataframe tbody tr th {\n",
              "        vertical-align: top;\n",
              "    }\n",
              "\n",
              "    .dataframe thead th {\n",
              "        text-align: right;\n",
              "    }\n",
              "</style>\n",
              "<table border=\"1\" class=\"dataframe\">\n",
              "  <thead>\n",
              "    <tr style=\"text-align: right;\">\n",
              "      <th></th>\n",
              "      <th>count</th>\n",
              "    </tr>\n",
              "    <tr>\n",
              "      <th>Week Day</th>\n",
              "      <th></th>\n",
              "    </tr>\n",
              "  </thead>\n",
              "  <tbody>\n",
              "    <tr>\n",
              "      <th>Tues</th>\n",
              "      <td>56</td>\n",
              "    </tr>\n",
              "    <tr>\n",
              "      <th>Sat</th>\n",
              "      <td>55</td>\n",
              "    </tr>\n",
              "    <tr>\n",
              "      <th>Thu</th>\n",
              "      <td>54</td>\n",
              "    </tr>\n",
              "    <tr>\n",
              "      <th>Sun</th>\n",
              "      <td>53</td>\n",
              "    </tr>\n",
              "    <tr>\n",
              "      <th>Fri</th>\n",
              "      <td>52</td>\n",
              "    </tr>\n",
              "    <tr>\n",
              "      <th>Mon</th>\n",
              "      <td>50</td>\n",
              "    </tr>\n",
              "    <tr>\n",
              "      <th>Wed</th>\n",
              "      <td>43</td>\n",
              "    </tr>\n",
              "  </tbody>\n",
              "</table>\n",
              "</div><br><label><b>dtype:</b> int64</label>"
            ]
          },
          "metadata": {},
          "execution_count": 11
        }
      ]
    },
    {
      "cell_type": "markdown",
      "source": [
        "### **THIRD FEATURE**"
      ],
      "metadata": {
        "id": "84w3RtwyIzrP"
      },
      "id": "84w3RtwyIzrP"
    },
    {
      "cell_type": "code",
      "source": [
        "dataset['Transaction Amount'].describe()"
      ],
      "metadata": {
        "colab": {
          "base_uri": "https://localhost:8080/",
          "height": 335
        },
        "id": "8mFSD6Fk1ELG",
        "outputId": "57ae6f77-436a-4cae-a43c-fdbc694b84f6"
      },
      "id": "8mFSD6Fk1ELG",
      "execution_count": null,
      "outputs": [
        {
          "output_type": "execute_result",
          "data": {
            "text/plain": [
              "count     363.000000\n",
              "mean      977.349972\n",
              "std       581.386431\n",
              "min        14.290000\n",
              "25%       476.700000\n",
              "50%       992.100000\n",
              "75%      1469.630000\n",
              "max      1994.680000\n",
              "Name: Transaction Amount, dtype: float64"
            ],
            "text/html": [
              "<div>\n",
              "<style scoped>\n",
              "    .dataframe tbody tr th:only-of-type {\n",
              "        vertical-align: middle;\n",
              "    }\n",
              "\n",
              "    .dataframe tbody tr th {\n",
              "        vertical-align: top;\n",
              "    }\n",
              "\n",
              "    .dataframe thead th {\n",
              "        text-align: right;\n",
              "    }\n",
              "</style>\n",
              "<table border=\"1\" class=\"dataframe\">\n",
              "  <thead>\n",
              "    <tr style=\"text-align: right;\">\n",
              "      <th></th>\n",
              "      <th>Transaction Amount</th>\n",
              "    </tr>\n",
              "  </thead>\n",
              "  <tbody>\n",
              "    <tr>\n",
              "      <th>count</th>\n",
              "      <td>363.000000</td>\n",
              "    </tr>\n",
              "    <tr>\n",
              "      <th>mean</th>\n",
              "      <td>977.349972</td>\n",
              "    </tr>\n",
              "    <tr>\n",
              "      <th>std</th>\n",
              "      <td>581.386431</td>\n",
              "    </tr>\n",
              "    <tr>\n",
              "      <th>min</th>\n",
              "      <td>14.290000</td>\n",
              "    </tr>\n",
              "    <tr>\n",
              "      <th>25%</th>\n",
              "      <td>476.700000</td>\n",
              "    </tr>\n",
              "    <tr>\n",
              "      <th>50%</th>\n",
              "      <td>992.100000</td>\n",
              "    </tr>\n",
              "    <tr>\n",
              "      <th>75%</th>\n",
              "      <td>1469.630000</td>\n",
              "    </tr>\n",
              "    <tr>\n",
              "      <th>max</th>\n",
              "      <td>1994.680000</td>\n",
              "    </tr>\n",
              "  </tbody>\n",
              "</table>\n",
              "</div><br><label><b>dtype:</b> float64</label>"
            ]
          },
          "metadata": {},
          "execution_count": 12
        }
      ]
    },
    {
      "cell_type": "code",
      "source": [
        "dataset['Transaction_Amount_Bin'] = pd.cut(dataset['Transaction Amount'], bins=[0, 500, 1000, 1500, 2000], labels=['Low', 'Medium', 'High', 'Very High'])"
      ],
      "metadata": {
        "id": "POPfOENS5V8X"
      },
      "id": "POPfOENS5V8X",
      "execution_count": null,
      "outputs": []
    },
    {
      "cell_type": "code",
      "source": [
        "dataset['Transaction_Amount_Bin'].value_counts()"
      ],
      "metadata": {
        "colab": {
          "base_uri": "https://localhost:8080/",
          "height": 241
        },
        "id": "3KN91AFB5jsG",
        "outputId": "8354447c-e6a6-489e-bc0b-86fe0b0f4540"
      },
      "id": "3KN91AFB5jsG",
      "execution_count": null,
      "outputs": [
        {
          "output_type": "execute_result",
          "data": {
            "text/plain": [
              "Transaction_Amount_Bin\n",
              "Low          99\n",
              "High         97\n",
              "Very High    84\n",
              "Medium       83\n",
              "Name: count, dtype: int64"
            ],
            "text/html": [
              "<div>\n",
              "<style scoped>\n",
              "    .dataframe tbody tr th:only-of-type {\n",
              "        vertical-align: middle;\n",
              "    }\n",
              "\n",
              "    .dataframe tbody tr th {\n",
              "        vertical-align: top;\n",
              "    }\n",
              "\n",
              "    .dataframe thead th {\n",
              "        text-align: right;\n",
              "    }\n",
              "</style>\n",
              "<table border=\"1\" class=\"dataframe\">\n",
              "  <thead>\n",
              "    <tr style=\"text-align: right;\">\n",
              "      <th></th>\n",
              "      <th>count</th>\n",
              "    </tr>\n",
              "    <tr>\n",
              "      <th>Transaction_Amount_Bin</th>\n",
              "      <th></th>\n",
              "    </tr>\n",
              "  </thead>\n",
              "  <tbody>\n",
              "    <tr>\n",
              "      <th>Low</th>\n",
              "      <td>99</td>\n",
              "    </tr>\n",
              "    <tr>\n",
              "      <th>High</th>\n",
              "      <td>97</td>\n",
              "    </tr>\n",
              "    <tr>\n",
              "      <th>Very High</th>\n",
              "      <td>84</td>\n",
              "    </tr>\n",
              "    <tr>\n",
              "      <th>Medium</th>\n",
              "      <td>83</td>\n",
              "    </tr>\n",
              "  </tbody>\n",
              "</table>\n",
              "</div><br><label><b>dtype:</b> int64</label>"
            ]
          },
          "metadata": {},
          "execution_count": 14
        }
      ]
    },
    {
      "cell_type": "markdown",
      "source": [
        "### **FOURTH FEATURE**"
      ],
      "metadata": {
        "id": "7x0FhrOLI6p4"
      },
      "id": "7x0FhrOLI6p4"
    },
    {
      "cell_type": "code",
      "source": [
        "dataset['Amount_to_Mean_Ratio'] = dataset['Transaction Amount'] / dataset['Transaction Amount'].mean()"
      ],
      "metadata": {
        "id": "0RRU7vxx6tP-"
      },
      "id": "0RRU7vxx6tP-",
      "execution_count": null,
      "outputs": []
    },
    {
      "cell_type": "markdown",
      "source": [
        "### **FIFTH FEATURE**"
      ],
      "metadata": {
        "id": "GHIY1pVWJAI2"
      },
      "id": "GHIY1pVWJAI2"
    },
    {
      "cell_type": "code",
      "source": [
        "dataset['Amount_to_Global_StdDev_Ratio'] = dataset['Transaction Amount'] / dataset['Transaction Amount'].std()"
      ],
      "metadata": {
        "id": "CuRV_VtYFnXo"
      },
      "id": "CuRV_VtYFnXo",
      "execution_count": null,
      "outputs": []
    },
    {
      "cell_type": "markdown",
      "source": [
        "### **SIXTH FEATURE**"
      ],
      "metadata": {
        "id": "EKSWrGFgeQvt"
      },
      "id": "EKSWrGFgeQvt"
    },
    {
      "cell_type": "code",
      "source": [
        "fraud_dataset = dataset[dataset['Is Fraudulent'] == 'Yes']\n",
        "transaction_type_risk = {}\n",
        "\n",
        "for i in dataset['Transaction Type'].unique():\n",
        "    transaction_type_risk[i] = (fraud_dataset[fraud_dataset['Transaction Type'] == i].shape[0]) / (dataset[dataset['Transaction Type'] == i].shape[0])\n",
        "transaction_type_risk"
      ],
      "metadata": {
        "colab": {
          "base_uri": "https://localhost:8080/"
        },
        "id": "YIIgK3fkeTqI",
        "outputId": "f83e72c9-4dd8-4035-cc9f-e2b6f1e6be41"
      },
      "id": "YIIgK3fkeTqI",
      "execution_count": null,
      "outputs": [
        {
          "output_type": "execute_result",
          "data": {
            "text/plain": [
              "{'Online Purchase': 0.504,\n",
              " 'In-Store Purchase': 0.4260869565217391,\n",
              " 'ATM Withdrawal': 0.5772357723577236}"
            ]
          },
          "metadata": {},
          "execution_count": 19
        }
      ]
    },
    {
      "cell_type": "code",
      "source": [
        "fraud_dataset = dataset[dataset['Is Fraudulent'] == 'Yes']\n",
        "Card_type_risk = {}\n",
        "\n",
        "for i in dataset['Card Type'].unique():\n",
        "    Card_type_risk[i] = (fraud_dataset[fraud_dataset['Card Type'] == i].shape[0]) / (dataset[dataset['Card Type'] == i].shape[0])\n",
        "Card_type_risk"
      ],
      "metadata": {
        "colab": {
          "base_uri": "https://localhost:8080/"
        },
        "id": "7IvwJKaXppmD",
        "outputId": "ceb18bfe-900e-41ac-85cf-be4cb90b8495"
      },
      "id": "7IvwJKaXppmD",
      "execution_count": null,
      "outputs": [
        {
          "output_type": "execute_result",
          "data": {
            "text/plain": [
              "{'MasterCard': 0.5052631578947369,\n",
              " 'Discover': 0.5869565217391305,\n",
              " 'Amex': 0.43529411764705883,\n",
              " 'Visa': 0.4835164835164835}"
            ]
          },
          "metadata": {},
          "execution_count": 20
        }
      ]
    },
    {
      "cell_type": "code",
      "source": [
        "# Function to calculate the total risk for each row\n",
        "def calculate_risk(row):\n",
        "    transaction_risk = transaction_type_risk.get(row['Transaction Type'], 0)  # Default to 0 if not found\n",
        "    card_risk = Card_type_risk.get(row['Card Type'], 0)  # Default to 0 if not found\n",
        "    return card_risk + transaction_risk\n",
        "\n",
        "dataset['Risk'] = dataset.apply(calculate_risk, axis=1)"
      ],
      "metadata": {
        "id": "L9Fi2RFPVZda"
      },
      "id": "L9Fi2RFPVZda",
      "execution_count": null,
      "outputs": []
    },
    {
      "cell_type": "markdown",
      "source": [
        "## **Label Encoding**"
      ],
      "metadata": {
        "id": "vy5AonCOdrP9"
      },
      "id": "vy5AonCOdrP9"
    },
    {
      "cell_type": "code",
      "source": [
        "dataset = dataset.drop(columns = ['Transaction ID', 'Customer ID', 'Transaction Date',\n",
        "       'Transaction Amount', 'Transaction Hour'])"
      ],
      "metadata": {
        "id": "7sJ_e0XVLxOc"
      },
      "id": "7sJ_e0XVLxOc",
      "execution_count": null,
      "outputs": []
    },
    {
      "cell_type": "code",
      "source": [
        "import pandas as pd\n",
        "from sklearn.preprocessing import OneHotEncoder, LabelEncoder\n",
        "\n",
        "\n",
        "df_encoded = pd.get_dummies(dataset, columns=['Transaction Type', 'Card Type', 'Transaction Time', 'Week Day'], drop_first=True)\n",
        "mapping = {'Low': 0, 'Medium': 1, 'High': 2, 'Very High': 3}\n",
        "df_encoded['Transaction_Amount_Bin'] = dataset['Transaction_Amount_Bin'].map(mapping)\n",
        "df_encoded['Transaction_Amount_Bin'] = df_encoded['Transaction_Amount_Bin'].astype(int)\n",
        "df_encoded['Is Fraudulent'] = dataset['Is Fraudulent'].apply(lambda x: 1 if x == 'Yes' else 0)\n",
        "df_encoded = df_encoded.drop(columns = ['Merchant', 'Location'])\n"
      ],
      "metadata": {
        "id": "-x_ZCsCsHjJ4"
      },
      "id": "-x_ZCsCsHjJ4",
      "execution_count": null,
      "outputs": []
    },
    {
      "cell_type": "markdown",
      "source": [
        "## **Feature Selection**"
      ],
      "metadata": {
        "id": "RKI1nDZNdykp"
      },
      "id": "RKI1nDZNdykp"
    },
    {
      "cell_type": "code",
      "source": [
        "correlation_matrix = df_encoded.corr()\n",
        "correlation_with_label = correlation_matrix['Is Fraudulent']"
      ],
      "metadata": {
        "id": "bIN1zKLnTcoM"
      },
      "id": "bIN1zKLnTcoM",
      "execution_count": null,
      "outputs": []
    },
    {
      "cell_type": "code",
      "source": [
        "abs(correlation_with_label).sort_values(ascending=False)"
      ],
      "metadata": {
        "colab": {
          "base_uri": "https://localhost:8080/",
          "height": 711
        },
        "id": "3Vr61dctUOmT",
        "outputId": "a64f337a-97aa-4832-9475-781a837c21d1"
      },
      "id": "3Vr61dctUOmT",
      "execution_count": null,
      "outputs": [
        {
          "output_type": "execute_result",
          "data": {
            "text/plain": [
              "Is Fraudulent                         1.000000\n",
              "Risk                                  0.162321\n",
              "Transaction Time_Mid Night            0.144956\n",
              "Amount_to_Mean_Ratio                  0.132346\n",
              "Amount_to_Global_StdDev_Ratio         0.132346\n",
              "Transaction_Amount_Bin                0.129347\n",
              "Transaction Time_Night                0.122347\n",
              "Transaction Type_In-Store Purchase    0.106295\n",
              "Card Type_Discover                    0.096519\n",
              "Week Day_Sat                          0.050292\n",
              "Week Day_Thu                          0.034422\n",
              "Week Day_Mon                          0.028672\n",
              "Transaction Time_Morning              0.024388\n",
              "Card Type_Visa                        0.023850\n",
              "Week Day_Sun                          0.019988\n",
              "Transaction Time_Evening              0.018182\n",
              "Week Day_Wed                          0.005496\n",
              "Week Day_Tues                         0.003530\n",
              "Card Type_MasterCard                  0.001347\n",
              "Transaction Type_Online Purchase      0.000192\n",
              "Name: Is Fraudulent, dtype: float64"
            ],
            "text/html": [
              "<div>\n",
              "<style scoped>\n",
              "    .dataframe tbody tr th:only-of-type {\n",
              "        vertical-align: middle;\n",
              "    }\n",
              "\n",
              "    .dataframe tbody tr th {\n",
              "        vertical-align: top;\n",
              "    }\n",
              "\n",
              "    .dataframe thead th {\n",
              "        text-align: right;\n",
              "    }\n",
              "</style>\n",
              "<table border=\"1\" class=\"dataframe\">\n",
              "  <thead>\n",
              "    <tr style=\"text-align: right;\">\n",
              "      <th></th>\n",
              "      <th>Is Fraudulent</th>\n",
              "    </tr>\n",
              "  </thead>\n",
              "  <tbody>\n",
              "    <tr>\n",
              "      <th>Is Fraudulent</th>\n",
              "      <td>1.000000</td>\n",
              "    </tr>\n",
              "    <tr>\n",
              "      <th>Risk</th>\n",
              "      <td>0.162321</td>\n",
              "    </tr>\n",
              "    <tr>\n",
              "      <th>Transaction Time_Mid Night</th>\n",
              "      <td>0.144956</td>\n",
              "    </tr>\n",
              "    <tr>\n",
              "      <th>Amount_to_Mean_Ratio</th>\n",
              "      <td>0.132346</td>\n",
              "    </tr>\n",
              "    <tr>\n",
              "      <th>Amount_to_Global_StdDev_Ratio</th>\n",
              "      <td>0.132346</td>\n",
              "    </tr>\n",
              "    <tr>\n",
              "      <th>Transaction_Amount_Bin</th>\n",
              "      <td>0.129347</td>\n",
              "    </tr>\n",
              "    <tr>\n",
              "      <th>Transaction Time_Night</th>\n",
              "      <td>0.122347</td>\n",
              "    </tr>\n",
              "    <tr>\n",
              "      <th>Transaction Type_In-Store Purchase</th>\n",
              "      <td>0.106295</td>\n",
              "    </tr>\n",
              "    <tr>\n",
              "      <th>Card Type_Discover</th>\n",
              "      <td>0.096519</td>\n",
              "    </tr>\n",
              "    <tr>\n",
              "      <th>Week Day_Sat</th>\n",
              "      <td>0.050292</td>\n",
              "    </tr>\n",
              "    <tr>\n",
              "      <th>Week Day_Thu</th>\n",
              "      <td>0.034422</td>\n",
              "    </tr>\n",
              "    <tr>\n",
              "      <th>Week Day_Mon</th>\n",
              "      <td>0.028672</td>\n",
              "    </tr>\n",
              "    <tr>\n",
              "      <th>Transaction Time_Morning</th>\n",
              "      <td>0.024388</td>\n",
              "    </tr>\n",
              "    <tr>\n",
              "      <th>Card Type_Visa</th>\n",
              "      <td>0.023850</td>\n",
              "    </tr>\n",
              "    <tr>\n",
              "      <th>Week Day_Sun</th>\n",
              "      <td>0.019988</td>\n",
              "    </tr>\n",
              "    <tr>\n",
              "      <th>Transaction Time_Evening</th>\n",
              "      <td>0.018182</td>\n",
              "    </tr>\n",
              "    <tr>\n",
              "      <th>Week Day_Wed</th>\n",
              "      <td>0.005496</td>\n",
              "    </tr>\n",
              "    <tr>\n",
              "      <th>Week Day_Tues</th>\n",
              "      <td>0.003530</td>\n",
              "    </tr>\n",
              "    <tr>\n",
              "      <th>Card Type_MasterCard</th>\n",
              "      <td>0.001347</td>\n",
              "    </tr>\n",
              "    <tr>\n",
              "      <th>Transaction Type_Online Purchase</th>\n",
              "      <td>0.000192</td>\n",
              "    </tr>\n",
              "  </tbody>\n",
              "</table>\n",
              "</div><br><label><b>dtype:</b> float64</label>"
            ]
          },
          "metadata": {},
          "execution_count": 98
        }
      ]
    },
    {
      "cell_type": "code",
      "source": [
        "cols = [\n",
        "    \"Risk\",\n",
        "    \"Transaction Time_Mid Night\",\n",
        "    \"Amount_to_Mean_Ratio\",\n",
        "    \"Amount_to_Global_StdDev_Ratio\",\n",
        "    \"Transaction_Amount_Bin\",\n",
        "    \"Transaction Time_Night\",\n",
        "    \"Transaction Type_In-Store Purchase\",\n",
        "    \"Card Type_Discover\",\"Week Day_Thu\",\"Week Day_Mon\", \"Transaction Time_Morning\",\n",
        "]"
      ],
      "metadata": {
        "id": "a-cRnuANUhSq"
      },
      "id": "a-cRnuANUhSq",
      "execution_count": null,
      "outputs": []
    },
    {
      "cell_type": "markdown",
      "source": [
        "## **MODEL DEVELOPMENT**"
      ],
      "metadata": {
        "id": "iCxDNlz4d3l5"
      },
      "id": "iCxDNlz4d3l5"
    },
    {
      "cell_type": "code",
      "source": [
        "X = df_encoded[cols]\n",
        "y = df_encoded['Is Fraudulent']\n",
        "X_train, X_test, y_train, y_test = train_test_split(X, y, test_size=0.2, random_state=42, stratify=y)\n",
        "\n",
        "# List of models to evaluate\n",
        "models = {\n",
        "    'Logistic Regression': LogisticRegression(random_state=42),\n",
        "    #'SVM': SVC(random_state=42),\n",
        "    #'K-Nearest Neighbors' : KNeighborsClassifier(),\n",
        "    'Naive Bayes' : GaussianNB(),\n",
        "}\n",
        "\n",
        "# Loop through each model, train it, and evaluate\n",
        "for model_name, model in models.items():\n",
        "    model.fit(X_train, y_train)\n",
        "    y_pred = model.predict(X_test)\n",
        "\n",
        "    accuracy = accuracy_score(y_test, y_pred)\n",
        "    precision = precision_score(y_test, y_pred)\n",
        "    recall = recall_score(y_test, y_pred)\n",
        "    f1 = f1_score(y_test, y_pred)\n",
        "\n",
        "    print(f\"{model_name} Performance:\")\n",
        "    print(f\"Accuracy: {accuracy:.4f}\")\n",
        "    print(f\"Precision: {precision:.4f}\")\n",
        "    print(f\"Recall: {recall:.4f}\")\n",
        "    print(f\"F1 Score: {f1:.4f}\")\n",
        "    print(\"-\" * 30)"
      ],
      "metadata": {
        "colab": {
          "base_uri": "https://localhost:8080/"
        },
        "id": "5ZlOFgaLRdc7",
        "outputId": "426333f9-464a-494a-d076-6fc3c0c7ffef"
      },
      "id": "5ZlOFgaLRdc7",
      "execution_count": null,
      "outputs": [
        {
          "output_type": "stream",
          "name": "stdout",
          "text": [
            "Logistic Regression Performance:\n",
            "Accuracy: 0.6712\n",
            "Precision: 0.6970\n",
            "Recall: 0.6216\n",
            "F1 Score: 0.6571\n",
            "------------------------------\n",
            "Naive Bayes Performance:\n",
            "Accuracy: 0.6849\n",
            "Precision: 0.7188\n",
            "Recall: 0.6216\n",
            "F1 Score: 0.6667\n",
            "------------------------------\n"
          ]
        }
      ]
    },
    {
      "cell_type": "code",
      "execution_count": null,
      "id": "0860473d",
      "metadata": {
        "id": "0860473d"
      },
      "outputs": [],
      "source": []
    }
  ],
  "metadata": {
    "kernelspec": {
      "display_name": "Python 3 (ipykernel)",
      "language": "python",
      "name": "python3"
    },
    "language_info": {
      "codemirror_mode": {
        "name": "ipython",
        "version": 3
      },
      "file_extension": ".py",
      "mimetype": "text/x-python",
      "name": "python",
      "nbconvert_exporter": "python",
      "pygments_lexer": "ipython3",
      "version": "3.9.7"
    },
    "colab": {
      "provenance": []
    }
  },
  "nbformat": 4,
  "nbformat_minor": 5
}